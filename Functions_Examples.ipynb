{
 "cells": [
  {
   "cell_type": "markdown",
   "metadata": {},
   "source": [
    "Helper Functions"
   ]
  },
  {
   "cell_type": "code",
   "execution_count": 1,
   "metadata": {},
   "outputs": [],
   "source": [
    "#funtcions\n",
    "import os\n",
    "import tarfile\n",
    "import pandas as pd\n",
    "import numpy as np\n",
    "import csv\n",
    "\n",
    "from statsmodels.tools.tools import add_constant\n",
    "import math\n",
    "import matplotlib.pyplot as plt\n",
    "import seaborn as sns\n",
    "\n",
    "#helper functions\n",
    "def find_delimiter(filename):\n",
    "    sniffer = csv.Sniffer()\n",
    "    with open(filename) as fp:\n",
    "        delimiter = sniffer.sniff(fp.read(5000)).delimiter\n",
    "    return delimiter\n",
    "\n",
    "#extract gaps function removes gaps for training and testing of the models \n",
    "def extractgaps(df):\n",
    "    dfgaps = df[pd.isna(df['Label'])]\n",
    "    return dfgaps\n",
    "\n",
    "#controlls the results from the zero growth model on mistakes of negative growth values. Just to be sure. Wrong values are replaced with 0\n",
    "def handle_negval_sub(row):\n",
    "    if (row['Label'] < 0):\n",
    "        row['Label'] = 0\n",
    "    return row\n",
    "def handle_negval(df):\n",
    "    df.apply(handle_negval_sub, axis=1)\n",
    "    return df\n",
    "\n",
    "\n",
    "#libraries\n",
    "import os\n",
    "import tarfile\n",
    "import pandas as pd\n",
    "import numpy as np\n",
    "import csv\n",
    "\n",
    "from statsmodels.tools.tools import add_constant\n",
    "import math\n",
    "import matplotlib.pyplot as plt\n",
    "import seaborn as sns\n",
    "\n",
    "\n",
    "#reads csv files of any kind of separator \n",
    "def create_df_csv(path, short=True):\n",
    "    \"\"\"Reads csv file and returns dataframe. \n",
    "    KEYWORD ARGUMENTS\n",
    "    path: str - the path of the file\n",
    "    short: Boolean - is it a short hobo list or a long continuous list? default = True\n",
    "    ATTENTION\n",
    "    \"\"\"\n",
    "    # \"infer\" is default for header\n",
    "    #check the delimiter    \n",
    "    delim = find_delimiter(path)\n",
    "    return pd.read_csv(path, delimiter = delim, header=0 if short else 'infer')\n",
    "\n",
    "\n",
    "#cleans the data: input is df with columns DOY, Year, Hour, VPD, Label; names must be the one listed here! Returns the new cleaned dataframe and the dataframe including all gaps\n",
    "def cleanData(df):\n",
    "    df_gaps = extractgaps(df)\n",
    "    newdf = handle_negval(df)\n",
    "    \n",
    "    \n",
    "    newdf = newdf.dropna()\n",
    "    return newdf, df_gaps\n",
    "\n",
    "\n",
    "#train test split\n",
    "#df = your dataframe consisting of DOY, Year, Hour, VPD, Label\n",
    "def traintestsplit(df): \n",
    "    from sklearn.model_selection import train_test_split\n",
    "    #split data into X and y (X = DOY,Year;Hour,VPD, y = Label)\n",
    "    X = df.drop(labels=['Label'], axis=1) \n",
    "    y = df['Label']\n",
    "    X['strat'] = X['Hour'].astype(str) + X['Year'].astype(str)\n",
    "    X_train, X_test, y_train, y_test = train_test_split(X, y, test_size=0.2, random_state=42, stratify= X['strat']) #stratified sampling by Hour and Year\n",
    "    X_train = X_train.drop(columns = ['strat'])\n",
    "    X_test = X_test.drop(columns = ['strat'])\n",
    "    return X_train, X_test, y_train, y_test\n",
    "\n",
    "\n",
    "#scaling of the data\n",
    "#X_train = X train output from traintestplit() \n",
    "#path = path where to save the Scaler, given as character\n",
    "def ZTransformTrain(X_train, path):\n",
    "\n",
    "    from sklearn.preprocessing import StandardScaler\n",
    "    import joblib\n",
    "    scaler = StandardScaler() \n",
    "    scaler.fit(X_train)\n",
    "    X_train_scaled = scaler.transform(X_train)\n",
    "    joblib.dump(scaler, path) \n",
    "    return X_train_scaled, scaler\n",
    "\n",
    "#if you want to test the performance differences of best algorithms rf, xgb, knn and ridge. \n",
    "def testall4(X_train, X_test, y_train, y_test):\n",
    "    from sklearn.model_selection import train_test_split\n",
    "    from sklearn.metrics import mean_squared_error \n",
    "    from sklearn.metrics import r2_score \n",
    "    import xgboost as xgb\n",
    "    from sklearn import linear_model\n",
    "    from sklearn.ensemble import RandomForestRegressor\n",
    "    from sklearn.neighbors import KNeighborsRegressor\n",
    "    #build evaulation set for xgb\n",
    "    X_train, X_val, y_train, y_val = train_test_split(X_train, y_train, test_size=0.2, random_state=42)\n",
    "    \n",
    "    #random forest\n",
    "    rf_reg = RandomForestRegressor(random_state=42)\n",
    "    rf_reg_model = rf_reg.fit(X_train,y_train)\n",
    "\n",
    "    Train_pred_rf = rf_reg_model.predict(X_train)\n",
    "    Train_test_pred_rf = rf_reg_model.predict(X_test)\n",
    "    performance = pd.DataFrame(columns=['Model','RMSE_train', 'R2_train','RMSE_test', 'R2_test'])\n",
    "    performance.loc[1] = 'RF', mean_squared_error(y_train, Train_pred_rf, squared=False), round(r2_score(y_train, Train_pred_rf),2),mean_squared_error(y_test, Train_test_pred_rf, squared=False), round(r2_score(y_test, Train_test_pred_rf),2)\n",
    "    \n",
    "    #knn\n",
    "    knn_reg = KNeighborsRegressor()\n",
    "    knn_reg_model = knn_reg.fit(X_train,y_train)\n",
    "\n",
    "    Train_pred_knn = knn_reg_model.predict(X_train)\n",
    "    Train_test_pred_knn = knn_reg_model.predict(X_test)\n",
    "    performance.loc[2]  = 'kNN', mean_squared_error(y_train, Train_pred_knn, squared=False), round(r2_score(y_train, Train_pred_knn),2),mean_squared_error(y_test, Train_test_pred_knn, squared=False), round(r2_score(y_test, Train_test_pred_knn),2)\n",
    "    \n",
    "    #ridge\n",
    "    ridge_reg = linear_model.Ridge()\n",
    "    ridge_reg_model = ridge_reg.fit(X_train,y_train)\n",
    "\n",
    "    Train_pred_ridge = ridge_reg_model.predict(X_train)\n",
    "    Train_test_pred_ridge = ridge_reg_model.predict(X_test)\n",
    "    performance.loc[3]  ='Ridge', mean_squared_error(y_train, Train_pred_ridge, squared=False), round(r2_score(y_train, Train_pred_ridge),2),mean_squared_error(y_test, Train_test_pred_ridge, squared=False), round(r2_score(y_test, Train_test_pred_ridge),2)\n",
    "    \n",
    "    #xgb\n",
    "    xgb_reg = xgb.XGBRegressor(early_stopping_round = 10) \n",
    "    \n",
    "    xgb_reg_model = xgb_reg.fit(X_train,y_train, eval_set=[(X_train, y_train), (X_val, y_val)], verbose = False)\n",
    "    Train_pred_xgb = xgb_reg_model.predict(X_train)\n",
    "    Train_test_pred_xgb = xgb_reg_model.predict(X_test)\n",
    "   \n",
    "    performance.loc[4] = 'XGB', mean_squared_error(y_train, Train_pred_xgb, squared=False), round(r2_score(y_train, Train_pred_xgb),2),mean_squared_error(y_test, Train_test_pred_xgb, squared=False), round(r2_score(y_test, Train_test_pred_xgb),2)\n",
    "    \n",
    "\n",
    "    return performance\n",
    "    \n",
    "\n",
    "\n",
    "#train and test the xgb algorithms to fit it to the training data and check it on the test set. Returns performance, Training set prediction, Test set prediction as dataframes and the final fitted model (xgb_reg_model) \n",
    "def testxgb(X_train, X_test, y_train, y_test):\n",
    "    from sklearn.model_selection import train_test_split\n",
    "    import xgboost as xgb\n",
    "    from sklearn.metrics import mean_squared_error \n",
    "    from sklearn.metrics import r2_score \n",
    "    #build evaulation set for xgb\n",
    "    X_train, X_val, y_train, y_val = train_test_split(X_train, y_train, test_size=0.2, random_state=42)\n",
    "     \n",
    "    xgb_reg = xgb.XGBRegressor(early_stopping_round = 10) #early stopping prevents the model from overfitting\n",
    "    xgb_reg_model = xgb_reg.fit(X_train,y_train, eval_set=[(X_train, y_train), (X_val, y_val)], verbose = False) #verbose = true enables to see the evaluation runs\n",
    "    Train_pred_xgb = xgb_reg_model.predict(X_train)\n",
    "    Train_test_pred_xgb = xgb_reg_model.predict(X_test)\n",
    "    performance = pd.DataFrame(columns=['Model','RMSE_train', 'R2_train','RMSE_test', 'R2_test'])\n",
    "    performance.loc[0,:] = 'XGB', mean_squared_error(y_train, Train_pred_xgb, squared=False), round(r2_score(y_train, Train_pred_xgb),2),mean_squared_error(y_test, Train_test_pred_xgb, squared=False), round(r2_score(y_test, Train_test_pred_xgb),2)\n",
    "    return performance, Train_pred_xgb, Train_test_pred_xgb, xgb_reg_model"
   ]
  },
  {
   "cell_type": "markdown",
   "metadata": {},
   "source": [
    "Read Data"
   ]
  },
  {
   "cell_type": "code",
   "execution_count": 2,
   "metadata": {},
   "outputs": [],
   "source": [
    "#read data\n",
    "example_data = create_df_csv(\"[YOUR_PATH]/example_data.csv\")"
   ]
  },
  {
   "cell_type": "markdown",
   "metadata": {},
   "source": [
    "Prepare Data"
   ]
  },
  {
   "cell_type": "code",
   "execution_count": 3,
   "metadata": {},
   "outputs": [],
   "source": [
    "#clean and find gap data\n",
    "example_data_cleaned, example_data_gaps = cleanData(example_data)\n",
    "\n",
    "#split data\n",
    "example_X_train, example_X_test, example_y_train, example_y_test = traintestsplit(example_data_cleaned)\n",
    "\n",
    "#scale data\n",
    "example_X_train_scaled, example_scaler = ZTransformTrain(example_X_train, \"[YOUR_PATH]Example_Scaler.bin\")\n",
    "\n",
    "#scale test data on the scaler of the train dataset\n",
    "example_X_test_scaled = example_scaler.transform(example_X_test)"
   ]
  },
  {
   "cell_type": "markdown",
   "metadata": {},
   "source": [
    "Fit and test XGB Model"
   ]
  },
  {
   "cell_type": "code",
   "execution_count": 4,
   "metadata": {},
   "outputs": [
    {
     "name": "stderr",
     "output_type": "stream",
     "text": [
      "d:\\99_Software\\Anaconda\\envs\\NEWEileen\\lib\\site-packages\\sklearn\\metrics\\_regression.py:483: FutureWarning: 'squared' is deprecated in version 1.4 and will be removed in 1.6. To calculate the root mean squared error, use the function'root_mean_squared_error'.\n",
      "  warnings.warn(\n",
      "d:\\99_Software\\Anaconda\\envs\\NEWEileen\\lib\\site-packages\\sklearn\\metrics\\_regression.py:483: FutureWarning: 'squared' is deprecated in version 1.4 and will be removed in 1.6. To calculate the root mean squared error, use the function'root_mean_squared_error'.\n",
      "  warnings.warn(\n",
      "d:\\99_Software\\Anaconda\\envs\\NEWEileen\\lib\\site-packages\\sklearn\\metrics\\_regression.py:483: FutureWarning: 'squared' is deprecated in version 1.4 and will be removed in 1.6. To calculate the root mean squared error, use the function'root_mean_squared_error'.\n",
      "  warnings.warn(\n",
      "d:\\99_Software\\Anaconda\\envs\\NEWEileen\\lib\\site-packages\\sklearn\\metrics\\_regression.py:483: FutureWarning: 'squared' is deprecated in version 1.4 and will be removed in 1.6. To calculate the root mean squared error, use the function'root_mean_squared_error'.\n",
      "  warnings.warn(\n",
      "d:\\99_Software\\Anaconda\\envs\\NEWEileen\\lib\\site-packages\\sklearn\\metrics\\_regression.py:483: FutureWarning: 'squared' is deprecated in version 1.4 and will be removed in 1.6. To calculate the root mean squared error, use the function'root_mean_squared_error'.\n",
      "  warnings.warn(\n",
      "d:\\99_Software\\Anaconda\\envs\\NEWEileen\\lib\\site-packages\\sklearn\\metrics\\_regression.py:483: FutureWarning: 'squared' is deprecated in version 1.4 and will be removed in 1.6. To calculate the root mean squared error, use the function'root_mean_squared_error'.\n",
      "  warnings.warn(\n",
      "d:\\99_Software\\Anaconda\\envs\\NEWEileen\\lib\\site-packages\\xgboost\\core.py:160: UserWarning: [11:02:32] WARNING: C:\\buildkite-agent\\builds\\buildkite-windows-cpu-autoscaling-group-i-0b3782d1791676daf-1\\xgboost\\xgboost-ci-windows\\src\\learner.cc:742: \n",
      "Parameters: { \"early_stopping_round\" } are not used.\n",
      "\n",
      "  warnings.warn(smsg, UserWarning)\n",
      "d:\\99_Software\\Anaconda\\envs\\NEWEileen\\lib\\site-packages\\sklearn\\metrics\\_regression.py:483: FutureWarning: 'squared' is deprecated in version 1.4 and will be removed in 1.6. To calculate the root mean squared error, use the function'root_mean_squared_error'.\n",
      "  warnings.warn(\n",
      "d:\\99_Software\\Anaconda\\envs\\NEWEileen\\lib\\site-packages\\sklearn\\metrics\\_regression.py:483: FutureWarning: 'squared' is deprecated in version 1.4 and will be removed in 1.6. To calculate the root mean squared error, use the function'root_mean_squared_error'.\n",
      "  warnings.warn(\n",
      "d:\\99_Software\\Anaconda\\envs\\NEWEileen\\lib\\site-packages\\xgboost\\core.py:160: UserWarning: [11:02:33] WARNING: C:\\buildkite-agent\\builds\\buildkite-windows-cpu-autoscaling-group-i-0b3782d1791676daf-1\\xgboost\\xgboost-ci-windows\\src\\learner.cc:742: \n",
      "Parameters: { \"early_stopping_round\" } are not used.\n",
      "\n",
      "  warnings.warn(smsg, UserWarning)\n",
      "d:\\99_Software\\Anaconda\\envs\\NEWEileen\\lib\\site-packages\\sklearn\\metrics\\_regression.py:483: FutureWarning: 'squared' is deprecated in version 1.4 and will be removed in 1.6. To calculate the root mean squared error, use the function'root_mean_squared_error'.\n",
      "  warnings.warn(\n",
      "d:\\99_Software\\Anaconda\\envs\\NEWEileen\\lib\\site-packages\\sklearn\\metrics\\_regression.py:483: FutureWarning: 'squared' is deprecated in version 1.4 and will be removed in 1.6. To calculate the root mean squared error, use the function'root_mean_squared_error'.\n",
      "  warnings.warn(\n"
     ]
    }
   ],
   "source": [
    "#test different algorithms quickly\n",
    "#note: rmse results refer to um not mm, divide by 1000 to compare to paper results. \n",
    "\n",
    "Example_performances_differentalgos = testall4(X_train=example_X_train_scaled, X_test= example_X_test_scaled, y_train=example_y_train,y_test= example_y_test)\n",
    "\n",
    "#xgb model setup \n",
    "example_performance, example_Train_pred, example_Test_pred, gxb_model = testxgb(X_train=example_X_train_scaled, X_test= example_X_test_scaled, y_train=example_y_train,y_test= example_y_test)"
   ]
  },
  {
   "cell_type": "markdown",
   "metadata": {},
   "source": [
    "Prepare and predict gaps"
   ]
  },
  {
   "cell_type": "code",
   "execution_count": 5,
   "metadata": {},
   "outputs": [],
   "source": [
    "#drop Label columns\n",
    "example_data_gaps = example_data_gaps.drop(columns=['Label'])"
   ]
  },
  {
   "cell_type": "code",
   "execution_count": 6,
   "metadata": {},
   "outputs": [],
   "source": [
    "#scale to train set \n",
    "\n",
    "example_data_gaps_scaled = example_scaler.transform(example_data_gaps)"
   ]
  },
  {
   "cell_type": "code",
   "execution_count": 7,
   "metadata": {},
   "outputs": [],
   "source": [
    "#predict\n",
    "\n",
    "Gap_predictions = gxb_model.predict(example_data_gaps_scaled)"
   ]
  },
  {
   "cell_type": "code",
   "execution_count": 8,
   "metadata": {},
   "outputs": [],
   "source": [
    "#merge\n",
    "example_gaps_filled = example_data_gaps\n",
    "example_gaps_filled['Label'] = Gap_predictions"
   ]
  },
  {
   "cell_type": "code",
   "execution_count": 9,
   "metadata": {},
   "outputs": [],
   "source": [
    "#rearrage gap filled values in dataset\n",
    "\n",
    "example_final = pd.concat((example_data_cleaned, example_gaps_filled), axis = 0)#merge files\n",
    "example_final = example_final.sort_index()#sort index"
   ]
  },
  {
   "cell_type": "code",
   "execution_count": 10,
   "metadata": {},
   "outputs": [
    {
     "data": {
      "image/png": "[encoded data removed]",
      "text/plain": [
       "<Figure size 680x680 with 1 Axes>"
      ]
     },
     "metadata": {},
     "output_type": "display_data"
    }
   ],
   "source": [
    "import matplotlib\n",
    "from sklearn.metrics import mean_squared_error \n",
    "matplotlib.rcParams['pdf.fonttype'] = 42 \n",
    "fig, ax1 = plt.subplots(1,1,figsize=(6.8, 6.8))\n",
    "\n",
    "date_rng = pd.date_range(start='2019-04-03', end='2023-10-31 23:00:00', freq='h')\n",
    "month_starts = pd.date_range(start=date_rng.min(), end=date_rng.max(), freq='YS')\n",
    "\n",
    "\n",
    "ax1.plot(date_rng, example_final['Label']/1000, label='S23_pred', color = \"red\")  # Plot colUNn B\n",
    "ax1.plot(date_rng, example_data['Label']/1000, color = \"black\")  # Plot colUNn A\n",
    "ax1.set_ylabel('Growth [mm]')\n",
    "ax1.set_ylim(-0.1,6)\n",
    "ax1.spines['top'].set_visible(False)\n",
    "ax1.spines['right'].set_visible(False)\n",
    "ax1.spines['bottom'].set_position(('outward', 10))  # Move x-axis outward by 10 points\n",
    "ax1.spines['left'].set_position(('outward', 10)) \n",
    "ax1.set_xticks(month_starts)\n",
    "\n",
    "plt.show()\n",
    "\n",
    "#if you want to save your figure, this is how you can, you need to disable plt.show() for this to work with a #\n",
    "#plt.savefig(\"[YOUR PATH].pdf\")"
   ]
  }
 ],
 "metadata": {
  "kernelspec": {
   "display_name": "NEWEileen",
   "language": "python",
   "name": "python3"
  },
  "language_info": {
   "codemirror_mode": {
    "name": "ipython",
    "version": 3
   },
   "file_extension": ".py",
   "mimetype": "text/x-python",
   "name": "python",
   "nbconvert_exporter": "python",
   "pygments_lexer": "ipython3",
   "version": "3.9.19"
  }
 },
 "nbformat": 4,
 "nbformat_minor": 2
}
